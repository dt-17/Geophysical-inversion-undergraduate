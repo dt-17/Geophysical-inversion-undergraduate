{
 "cells": [
  {
   "cell_type": "markdown",
   "metadata": {
    "slideshow": {
     "slide_type": "slide"
    }
   },
   "source": [
    "# ACSE-7 (Optimisation & Inversion) <a class=\"tocSkip\">\n",
    "\n",
    "## Lecture 2 <a class=\"tocSkip\">\n",
    "    \n",
    "### Homework Exercises  <a class=\"tocSkip\">"
   ]
  },
  {
   "cell_type": "markdown",
   "metadata": {
    "toc": true
   },
   "source": [
    "<h1>Table of Contents<span class=\"tocSkip\"></span></h1>\n",
    "<div class=\"toc\"><ul class=\"toc-item\"><li><span><a href=\"#Homework\" data-toc-modified-id=\"Homework-1\"><span class=\"toc-item-num\">1&nbsp;&nbsp;</span>Homework</a></span><ul class=\"toc-item\"><li><span><a href=\"#Homework---Optimisation---simple-example\" data-toc-modified-id=\"Homework---Optimisation---simple-example-1.1\"><span class=\"toc-item-num\">1.1&nbsp;&nbsp;</span>Homework - Optimisation - simple example</a></span></li><li><span><a href=\"#Homework---2D-linear-systems\" data-toc-modified-id=\"Homework---2D-linear-systems-1.2\"><span class=\"toc-item-num\">1.2&nbsp;&nbsp;</span>Homework - 2D linear systems</a></span></li><li><span><a href=\"#Homework---Using-row-operations-to-solve-the-linear-system-and-find-the-inverse-matrix\" data-toc-modified-id=\"Homework---Using-row-operations-to-solve-the-linear-system-and-find-the-inverse-matrix-1.3\"><span class=\"toc-item-num\">1.3&nbsp;&nbsp;</span>Homework - Using row operations to solve the linear system and find the inverse matrix</a></span></li></ul></li></ul></div>"
   ]
  },
  {
   "cell_type": "code",
   "execution_count": 46,
   "metadata": {},
   "outputs": [],
   "source": [
    "%matplotlib inline\n",
    "import numpy as np\n",
    "import matplotlib.pyplot as plt\n",
    "import scipy.linalg as sl\n",
    "from pprint import pprint\n",
    "import scipy.interpolate as si"
   ]
  },
  {
   "cell_type": "markdown",
   "metadata": {},
   "source": [
    "# Homework"
   ]
  },
  {
   "cell_type": "markdown",
   "metadata": {},
   "source": [
    "## Homework - Optimisation - simple example\n",
    "\n",
    "Consider the problem from the lecture\n",
    "$$ \n",
    "f(\\boldsymbol{x}) = \n",
    "1+2x + 4y + x^2+2xy+3y^2\n",
    "$$\n",
    "\n",
    "Compute the gradient vector, and by setting it equal to zero and writing as a matrix equation,\n",
    "solve for the stationary point. \n",
    "\n",
    "Plot the function via a contour plot in 2D, and add the stationay point you've computed to verify it is indeed a minima (refer to the image from the lecture)."
   ]
  },
  {
   "cell_type": "markdown",
   "metadata": {},
   "source": [
    "## Homework - 2D linear systems\n",
    "\n",
    "Recall from the lecture the system\n",
    "\n",
    "\\begin{eqnarray*}\n",
    "  2x + 3y &=& 7 \\\\[5pt]\n",
    "   x - 4y &=& 3,\n",
    "\\end{eqnarray*} \n",
    "\n",
    "and the following plot which demonstrated a unique solution."
   ]
  },
  {
   "cell_type": "code",
   "execution_count": 48,
   "metadata": {},
   "outputs": [
    {
     "data": {
      "image/png": "[encoded data removed]",
      "text/plain": [
       "<Figure size 360x360 with 1 Axes>"
      ]
     },
     "metadata": {
      "needs_background": "light"
     },
     "output_type": "display_data"
    }
   ],
   "source": [
    "# unique solution\n",
    "x = np.linspace(-1,5,100)\n",
    "y1 = -(2./3.)*x + (7./3.)\n",
    "y2 = (1./4.)*x - (3./4.)\n",
    "\n",
    "fig = plt.figure(figsize=(5, 5))\n",
    "\n",
    "ax1 = fig.add_subplot(111)\n",
    "\n",
    "ax1.set_xlabel(\"$x$\", fontsize=14)\n",
    "ax1.set_ylabel(\"$y$\", fontsize=14)\n",
    "ax1.set_title('Two lines', fontsize=14)\n",
    "ax1.grid(True)\n",
    "\n",
    "ax1.plot(x,y1,'b', label='$2x+3y=7$')\n",
    "ax1.plot(x,y2,'r', label='$x-4y=3$')\n",
    "\n",
    "ax1.legend(loc='best', fontsize=14);"
   ]
  },
  {
   "cell_type": "markdown",
   "metadata": {},
   "source": [
    "You were asked in class what other situations are possible and to construct examples and the corresponding plots - try to come up with and plot these situations.\n",
    "\n",
    "Hint: I used the following example as a starting point which was also discussed in the lecture\n",
    "\n",
    "$$\n",
    "\\left(\n",
    "  \\begin{array}{rr}\n",
    "    2 & 3 \\\\\n",
    "    4 & 6 \n",
    "  \\end{array}\n",
    "\\right)\\left(\n",
    "  \\begin{array}{c}\n",
    "    x \\\\\n",
    "    y\n",
    "  \\end{array}\n",
    "\\right) = \\left(\n",
    "  \\begin{array}{c}\n",
    "    4 \\\\\n",
    "    8\n",
    "  \\end{array}\n",
    "\\right),\n",
    "$$\n",
    "\n",
    "with a second RHS vector of \n",
    "\n",
    "$$\n",
    "\\left(\n",
    "  \\begin{array}{c}\n",
    "    4 \\\\\n",
    "    7\n",
    "  \\end{array}\n",
    "\\right)\n",
    "$$"
   ]
  },
  {
   "cell_type": "markdown",
   "metadata": {},
   "source": [
    "## Homework - Using row operations to solve the linear system and find the inverse matrix\n",
    "\n",
    "Consider the linear system\n",
    "\n",
    "$$\n",
    "  \\begin{pmatrix}\n",
    "    2 & 3 \\\\\n",
    "    1 & -4  \n",
    "  \\end{pmatrix}\n",
    "  \\begin{pmatrix}\n",
    "    x \\\\\n",
    "    y \n",
    "  \\end{pmatrix}=\n",
    "  \\begin{pmatrix}\n",
    "    7 \\\\\n",
    "    3 \n",
    "  \\end{pmatrix}   \n",
    "$$\n",
    "\n",
    "  \n",
    "form the augmented matrix  $[A|\\boldsymbol{b}|I]$ and perform row operations to obtain $[I|\\boldsymbol{x}|A^{-1}]$."
   ]
  }
 ],
 "metadata": {
  "celltoolbar": "Slideshow",
  "kernelspec": {
   "display_name": "Python 3",
   "language": "python",
   "name": "python3"
  },
  "language_info": {
   "codemirror_mode": {
    "name": "ipython",
    "version": 3
   },
   "file_extension": ".py",
   "mimetype": "text/x-python",
   "name": "python",
   "nbconvert_exporter": "python",
   "pygments_lexer": "ipython3",
   "version": "3.7.7"
  },
  "latex_envs": {
   "LaTeX_envs_menu_present": true,
   "autoclose": true,
   "autocomplete": true,
   "bibliofile": "biblio.bib",
   "cite_by": "apalike",
   "current_citInitial": 1,
   "eqLabelWithNumbers": true,
   "eqNumInitial": 1,
   "hotkeys": {
    "equation": "Ctrl-E",
    "itemize": "Ctrl-I"
   },
   "labels_anchors": false,
   "latex_user_defs": false,
   "report_style_numbering": false,
   "user_envs_cfg": true
  },
  "toc": {
   "base_numbering": 1,
   "nav_menu": {},
   "number_sections": true,
   "sideBar": true,
   "skip_h1_title": false,
   "title_cell": "Table of Contents",
   "title_sidebar": "Contents",
   "toc_cell": true,
   "toc_position": {},
   "toc_section_display": true,
   "toc_window_display": false
  }
 },
 "nbformat": 4,
 "nbformat_minor": 1
}
